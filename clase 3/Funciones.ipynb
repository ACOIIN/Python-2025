{
  "nbformat": 4,
  "nbformat_minor": 0,
  "metadata": {
    "colab": {
      "provenance": []
    },
    "kernelspec": {
      "name": "python3",
      "display_name": "Python 3"
    },
    "language_info": {
      "name": "python"
    }
  },
  "cells": [
    {
      "cell_type": "markdown",
      "source": [
        "# Funciones"
      ],
      "metadata": {
        "id": "KQopPbjgzWQk"
      }
    },
    {
      "cell_type": "markdown",
      "source": [
        "## Repaso semana pasada - Listas y bucles\n",
        "\n",
        "Una lista es una estructura que guarda múltiples elementos en orden.\n",
        "\n",
        "Un bucle `for` sirve para recorrer elementos de una lista, uno por uno."
      ],
      "metadata": {
        "id": "M_VGZz3gzbiz"
      }
    },
    {
      "cell_type": "code",
      "execution_count": null,
      "metadata": {
        "id": "HtZ9zlOczSZO"
      },
      "outputs": [],
      "source": [
        "nombres = [\"Ana\", \"Luis\", \"Tomas\"]\n",
        "\n",
        "for nombre in nombres:\n",
        "    print(\"Hola\", nombre)\n"
      ]
    },
    {
      "cell_type": "markdown",
      "source": [
        "### Ejercicio 1: Suma de todos los elementos de una lista"
      ],
      "metadata": {
        "id": "MwNM1l-Mzpm-"
      }
    },
    {
      "cell_type": "code",
      "source": [
        "numeros = [3, 5, 2, 8, 1]\n",
        "\n",
        "suma = 0\n",
        "for numero in numeros:\n",
        "    # tu código aquí\n",
        "\n",
        "print(\"La suma es:\", suma)\n"
      ],
      "metadata": {
        "id": "eezJysa5zae-"
      },
      "execution_count": null,
      "outputs": []
    },
    {
      "cell_type": "markdown",
      "source": [
        "### Ejercicio 2: Buscar el número más grande"
      ],
      "metadata": {
        "id": "wxYHiWp2zy6u"
      }
    },
    {
      "cell_type": "code",
      "source": [
        "valores = [4, 12, 7, 25, 9]\n",
        "\n",
        "mayor = valores[0]\n",
        "for v in valores:\n",
        "    # tu código aquí\n",
        "\n",
        "print(\"El número más grande es:\", mayor)\n"
      ],
      "metadata": {
        "id": "oFBEpzKzzsiU"
      },
      "execution_count": null,
      "outputs": []
    },
    {
      "cell_type": "markdown",
      "source": [
        "### Ejercicio 3: Contar cuántos elementos cumplen una condición"
      ],
      "metadata": {
        "id": "Aml-TBbyz2pT"
      }
    },
    {
      "cell_type": "code",
      "source": [
        "datos = [4, 15, 2, 20, 8, 30]\n",
        "\n",
        "contador = 0\n",
        "for numero in datos:\n",
        "    # tu código aquí\n",
        "\n",
        "print(\"Hay\", contador, \"números mayores que 10\")\n"
      ],
      "metadata": {
        "id": "OWybKUL5z2Vh"
      },
      "execution_count": null,
      "outputs": []
    },
    {
      "cell_type": "markdown",
      "source": [
        "## Funciones en Python\n",
        "\n",
        "Una función es un bloque de código que se puede reutilizar. Se define con def y se puede llamar cuando quieras.\n",
        "\n",
        "```\n",
        "def nombre_de_la_funcion(parámetros):\n",
        "    # bloque de código\n",
        "    return resultado_opcional\n",
        "```\n",
        "\n"
      ],
      "metadata": {
        "id": "4acqWxsLz-Kq"
      }
    },
    {
      "cell_type": "markdown",
      "source": [],
      "metadata": {
        "id": "buusjnsZ0Nb-"
      }
    },
    {
      "cell_type": "code",
      "source": [
        "def saludar():\n",
        "    print(\"¡Hola!\")\n",
        "\n",
        "saludar()\n"
      ],
      "metadata": {
        "id": "U_aMEL6b0Bm6"
      },
      "execution_count": null,
      "outputs": []
    },
    {
      "cell_type": "markdown",
      "source": [
        "También puede tener parametros:"
      ],
      "metadata": {
        "id": "fICNkju30Dn3"
      }
    },
    {
      "cell_type": "code",
      "source": [
        "def saludar_persona(nombre):\n",
        "    print(\"Hola\", nombre)\n",
        "\n",
        "saludar_persona(\"Matias\")\n"
      ],
      "metadata": {
        "id": "7EaC41dN0Fd0"
      },
      "execution_count": null,
      "outputs": []
    },
    {
      "cell_type": "markdown",
      "source": [
        "Y devolver resultados:"
      ],
      "metadata": {
        "id": "kTEQcxR-0G0E"
      }
    },
    {
      "cell_type": "code",
      "source": [
        "def cuadrado(x):\n",
        "    return x * x\n",
        "\n",
        "print(cuadrado(5))  # Resultado: 25\n"
      ],
      "metadata": {
        "id": "R7MgJPJc0GnZ"
      },
      "execution_count": null,
      "outputs": []
    },
    {
      "cell_type": "markdown",
      "source": [
        "### Ejercicios"
      ],
      "metadata": {
        "id": "uWs5tDOf0v61"
      }
    },
    {
      "cell_type": "markdown",
      "source": [
        "### Ejercicio 1: Calcular el área de un triángulo\n",
        "\n",
        "Objetivo: Escribe una función area_triangulo(base, altura) que retorne el área de un triángulo.\n",
        "La fórmula es:\n",
        "\n",
        "$$ area = \\frac{(base \\cdot altura)}{2} $$"
      ],
      "metadata": {
        "id": "UpfEO3SZ0x-R"
      }
    },
    {
      "cell_type": "code",
      "source": [
        "def area_triangulo(base, altura):\n",
        "    # tu código aquí\n",
        "    pass\n",
        "\n",
        "# Prueba\n",
        "print(area_triangulo(4, 6))\n",
        "# Salida esperada: 12.0\n"
      ],
      "metadata": {
        "id": "qJQ6caT60vlw"
      },
      "execution_count": null,
      "outputs": []
    },
    {
      "cell_type": "markdown",
      "source": [
        "### Ejercicio 2: Número par o impar\n",
        "\n",
        "Objetivo: Escribe una función es_par(n) que reciba un número y retorne True si es par y False si es impar."
      ],
      "metadata": {
        "id": "UBDfi6vl1IHy"
      }
    },
    {
      "cell_type": "code",
      "source": [
        "def es_par(n):\n",
        "    # tu código aquí\n",
        "    pass\n",
        "\n",
        "# Prueba\n",
        "print(es_par(4))  # True\n",
        "print(es_par(7))  # False\n"
      ],
      "metadata": {
        "id": "v_a-zeWP1KbU"
      },
      "execution_count": null,
      "outputs": []
    },
    {
      "cell_type": "markdown",
      "source": [
        "## Recursión\n",
        "\n",
        "Una función recursiva es una función que se llama a sí misma. Es útil para problemas que pueden dividirse en partes más pequeñas."
      ],
      "metadata": {
        "id": "-Nod-R3D0eyk"
      }
    },
    {
      "cell_type": "markdown",
      "source": [
        " ### Ejemplo clásico: Fibonacci"
      ],
      "metadata": {
        "id": "lTW2grNs0kJT"
      }
    },
    {
      "cell_type": "code",
      "source": [
        "def fibonacci(n):\n",
        "    if n == 0:\n",
        "        return 0\n",
        "    elif n == 1:\n",
        "        return 1\n",
        "    else:\n",
        "        return fibonacci(n-1) + fibonacci(n-2)\n",
        "\n",
        "# Prueba:\n",
        "print(fibonacci(6))  # Resultado: 8\n"
      ],
      "metadata": {
        "id": "FMiSXAoe0lss"
      },
      "execution_count": null,
      "outputs": []
    },
    {
      "cell_type": "markdown",
      "source": [
        "### Ejemplo: Cuenta regresiva"
      ],
      "metadata": {
        "id": "sqIwXwSd0m1N"
      }
    },
    {
      "cell_type": "code",
      "source": [
        "def cuenta_regresiva(n):\n",
        "    if n == 0:\n",
        "        print(\"¡Despegue!\")\n",
        "    else:\n",
        "        print(n)\n",
        "        cuenta_regresiva(n - 1)\n",
        "\n",
        "cuenta_regresiva(5)\n"
      ],
      "metadata": {
        "id": "Iw3E5P6I0ofv"
      },
      "execution_count": null,
      "outputs": []
    },
    {
      "cell_type": "markdown",
      "source": [
        "### Ejercicio 1: Mostrar los primeros n números de Fibonacci en una lista\n",
        "\n",
        "Objetivo: Escribe una función fibonacci_lista(n) que retorne una lista con los primeros n números de Fibonacci."
      ],
      "metadata": {
        "id": "-Aicg_G91YOr"
      }
    },
    {
      "cell_type": "code",
      "source": [
        "def fibonacci_lista(n):\n",
        "    # tu código aquí\n",
        "    pass\n",
        "\n",
        "# Prueba\n",
        "print(fibonacci_lista(7))\n",
        "# Salida esperada: [0, 1, 1, 2, 3, 5, 8]\n"
      ],
      "metadata": {
        "id": "ISWCbE1a1X00"
      },
      "execution_count": null,
      "outputs": []
    }
  ]
}