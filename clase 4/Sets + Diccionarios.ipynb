{
  "cells": [
    {
      "cell_type": "markdown",
      "source": [
        "# Sets y Diccionarios"
      ],
      "metadata": {
        "id": "8_LrxGHKgfY3"
      }
    },
    {
      "cell_type": "markdown",
      "metadata": {
        "id": "TG7Je9pHgVOS"
      },
      "source": [
        "## Repaso: Funciones\n",
        "\n",
        "Una **función** en Python es un bloque de código reutilizable que se puede ejecutar llamándolo por su nombre. Sirve para organizar el código, evitar repeticiones y hacer programas más legibles. Las funciones pueden recibir valores de entrada llamados *parámetros* y retornar resultados usando `return`."
      ]
    },
    {
      "cell_type": "code",
      "metadata": {
        "id": "PqTgaEOwgVOU"
      },
      "execution_count": null,
      "outputs": [],
      "source": [
        "def saludar(nombre):\n",
        "    print(\"Hola\", nombre)\n",
        "\n",
        "saludar(\"Martina\")  # Salida: Hola Martina"
      ]
    },
    {
      "cell_type": "code",
      "metadata": {
        "id": "Azbvb9FCgVOV"
      },
      "execution_count": null,
      "outputs": [],
      "source": [
        "def cuadrado(n):\n",
        "    return n * n\n",
        "\n",
        "resultado = cuadrado(4)\n",
        "print(resultado)  # Salida: 16"
      ]
    },
    {
      "cell_type": "markdown",
      "metadata": {
        "id": "jvY05TfigVOT"
      },
      "source": [
        "## ¿Qué es un set?\n",
        "\n",
        "Un **set** (o conjunto) es una estructura de datos que almacena elementos **únicos** y **sin orden específico**. Son útiles para eliminar duplicados, verificar pertenencia y realizar operaciones como unión, intersección y diferencia."
      ]
    },
    {
      "cell_type": "code",
      "metadata": {
        "id": "YbxwNmu0gVOV"
      },
      "execution_count": null,
      "outputs": [],
      "source": [
        "numeros = {1, 2, 3, 2, 1}\n",
        "print(numeros)  # Salida: {1, 2, 3}"
      ]
    },
    {
      "cell_type": "markdown",
      "metadata": {
        "id": "IO8RxIilgVOW"
      },
      "source": [
        "### Ejemplo de uso de `set`"
      ]
    },
    {
      "cell_type": "code",
      "metadata": {
        "id": "f-SViCYpgVOW"
      },
      "execution_count": null,
      "outputs": [],
      "source": [
        "lista = [1, 2, 2, 3, 4, 4, 5]\n",
        "sin_repetidos = set(lista)\n",
        "print(sin_repetidos)  # Salida: {1, 2, 3, 4, 5}"
      ]
    },
    {
      "cell_type": "code",
      "metadata": {
        "id": "Dee4Wp4igVOW"
      },
      "execution_count": null,
      "outputs": [],
      "source": [
        "a = {1, 2, 3}\n",
        "b = {3, 4, 5}\n",
        "\n",
        "print(a & b)  # Intersección: {3}\n",
        "print(a | b)  # Unión: {1, 2, 3, 4, 5}\n",
        "print(a - b)  # Diferencia: {1, 2}"
      ]
    },
    {
      "cell_type": "markdown",
      "metadata": {
        "id": "2hLLqdDGgVOW"
      },
      "source": [
        "### Ejercicios con `set`\n",
        "**🧩 Ejercicio 1: Eliminar duplicados**"
      ]
    },
    {
      "cell_type": "code",
      "metadata": {
        "id": "ZO3LCwjcgVOW"
      },
      "execution_count": null,
      "outputs": [],
      "source": [
        "def eliminar_duplicados(lista):\n",
        "    # tu código aquí\n",
        "    pass\n",
        "\n",
        "print(eliminar_duplicados([1, 1, 2, 3, 2, 4]))\n",
        "# Salida esperada: {1, 2, 3, 4}"
      ]
    },
    {
      "cell_type": "markdown",
      "metadata": {
        "id": "4fZoMrw2gVOW"
      },
      "source": [
        "**🧩 Ejercicio 2: Palabras en común**"
      ]
    },
    {
      "cell_type": "code",
      "metadata": {
        "id": "WMAaKTBKgVOW"
      },
      "execution_count": null,
      "outputs": [],
      "source": [
        "def palabras_en_comun(frase1, frase2):\n",
        "    # tu código aquí\n",
        "    pass\n",
        "\n",
        "print(palabras_en_comun(\"me gusta el pan\", \"el pan con mantequilla\"))\n",
        "# Salida esperada: {'el', 'pan'}"
      ]
    },
    {
      "cell_type": "markdown",
      "metadata": {
        "id": "rtr6mCNugVOU"
      },
      "source": [
        "## ¿Qué es un diccionario?\n",
        "\n",
        "Un **diccionario** es una estructura que permite almacenar datos asociados en pares **clave-valor**. Cada clave debe ser única, y se usa para acceder rápidamente al valor correspondiente. Es como una libreta de contactos: buscas por el nombre (clave) y obtienes el número (valor)."
      ]
    },
    {
      "cell_type": "code",
      "metadata": {
        "id": "8ZZx78WtgVOX"
      },
      "execution_count": null,
      "outputs": [],
      "source": [
        "persona = {\n",
        "    \"nombre\": \"Lucía\",\n",
        "    \"edad\": 17,\n",
        "    \"curso\": \"Python\"\n",
        "}\n",
        "print(persona[\"nombre\"])  # Salida: Lucía"
      ]
    },
    {
      "cell_type": "code",
      "metadata": {
        "id": "G_ANbeHYgVOX"
      },
      "execution_count": null,
      "outputs": [],
      "source": [
        "persona[\"edad\"] = 18\n",
        "persona[\"ciudad\"] = \"Santiago\""
      ]
    },
    {
      "cell_type": "markdown",
      "metadata": {
        "id": "dZLUnQKBgVOX"
      },
      "source": [
        "### Ejemplo de uso de diccionario"
      ]
    },
    {
      "cell_type": "code",
      "metadata": {
        "id": "h3PDTG9KgVOX"
      },
      "execution_count": null,
      "outputs": [],
      "source": [
        "frase = \"el sol sale por el este\"\n",
        "conteo = {}\n",
        "\n",
        "for palabra in frase.split():\n",
        "    if palabra in conteo:\n",
        "        conteo[palabra] += 1\n",
        "    else:\n",
        "        conteo[palabra] = 1\n",
        "\n",
        "print(conteo)"
      ]
    },
    {
      "cell_type": "markdown",
      "metadata": {
        "id": "IyiP90xVgVOX"
      },
      "source": [
        "### Ejercicios con diccionario\n",
        "** Ejercicio 1: Crear diccionario de edades**"
      ]
    },
    {
      "cell_type": "code",
      "metadata": {
        "id": "QrLZrT_agVOX"
      },
      "execution_count": null,
      "outputs": [],
      "source": [
        "def crear_diccionario(nombres, edades):\n",
        "    # tu código aquí\n",
        "    pass\n",
        "\n",
        "nombres = [\"Ana\", \"Luis\", \"Pedro\"]\n",
        "edades = [15, 17, 16]\n",
        "\n",
        "print(crear_diccionario(nombres, edades))\n",
        "# Salida esperada: {'Ana': 15, 'Luis': 17, 'Pedro': 16}"
      ]
    },
    {
      "cell_type": "markdown",
      "metadata": {
        "id": "OsZxUybKgVOX"
      },
      "source": [
        "** Ejercicio 2: Buscar en un diccionario**"
      ]
    },
    {
      "cell_type": "code",
      "metadata": {
        "id": "3Puc5Hg_gVOX"
      },
      "execution_count": null,
      "outputs": [],
      "source": [
        "productos = {\n",
        "    \"pan\": 1200,\n",
        "    \"leche\": 900,\n",
        "    \"huevos\": 1600\n",
        "}\n",
        "\n",
        "def buscar_precio(diccionario, producto):\n",
        "    # tu código aquí\n",
        "    pass\n",
        "\n",
        "print(buscar_precio(productos, \"leche\"))  # 900\n",
        "print(buscar_precio(productos, \"queso\"))  # \"Producto no encontrado\""
      ]
    },
    {
      "cell_type": "markdown",
      "source": [
        "## Ejemplo práctico el Gato\n",
        "\n"
      ],
      "metadata": {
        "id": "LucFssLdnVxg"
      }
    },
    {
      "cell_type": "markdown",
      "source": [
        "### Representación del tablero\n",
        "\n"
      ],
      "metadata": {
        "id": "uMLsLCdbn03F"
      }
    },
    {
      "cell_type": "code",
      "source": [
        "# Creamos el diccionario con las nueve posiciones iniciales en blanco\n",
        "theBoard = {\n",
        "    'top-L': ' ', 'top-M': ' ', 'top-R': ' ',\n",
        "    'mid-L': ' ', 'mid-M': ' ', 'mid-R': ' ',\n",
        "    'low-L': ' ', 'low-M': ' ', 'low-R': ' '\n",
        "}"
      ],
      "metadata": {
        "id": "mHp2OyC3nvVZ"
      },
      "execution_count": null,
      "outputs": []
    },
    {
      "cell_type": "markdown",
      "source": [
        "### Función `printBoard(board)`\n",
        "\n",
        "Markdown explica que esta función recibe el diccionario y lo imprime en formato visual 3×3:"
      ],
      "metadata": {
        "id": "Aycw5vNHn7Lg"
      }
    },
    {
      "cell_type": "code",
      "source": [
        "def printBoard(board):\n",
        "    print(board['top-L'] + '|' + board['top-M'] + '|' + board['top-R'])\n",
        "    print('-+-+-')\n",
        "    print(board['mid-L'] + '|' + board['mid-M'] + '|' + board['mid-R'])\n",
        "    print('-+-+-')\n",
        "    print(board['low-L'] + '|' + board['low-M'] + '|' + board['low-R'])"
      ],
      "metadata": {
        "id": "KSoSaFJHoBKd"
      },
      "execution_count": null,
      "outputs": []
    },
    {
      "cell_type": "markdown",
      "source": [
        "### Bucle de juego (turnos)\n",
        "\n",
        "Cada paso del bucle `for i in range(9)`:\n",
        "\n",
        "1. Imprime el tablero actual.\n",
        "2. Solicita al jugador (`X` u `O`) que ingrese una posición (`'top-L'`, `'mid-M'`, etc.).\n",
        "3. Actualiza el diccionario con la jugada.\n",
        "4. Cambia al otro jugador.\n",
        "5. Repite hasta completar 9 turnos.\n"
      ],
      "metadata": {
        "id": "6Ev-4jN_n-6z"
      }
    },
    {
      "cell_type": "code",
      "source": [
        "turn = 'X'\n",
        "for i in range(9):\n",
        "    printBoard(theBoard)\n",
        "    print(f\"Turn for {turn}. Move on which space?\")\n",
        "    move = input()\n",
        "    theBoard[move] = turn\n",
        "    turn = 'O' if turn == 'X' else 'X'\n",
        "printBoard(theBoard)"
      ],
      "metadata": {
        "id": "YqXo5hT_oGcV"
      },
      "execution_count": null,
      "outputs": []
    },
    {
      "cell_type": "markdown",
      "source": [
        "#### Cosas a considerar\n",
        "\n",
        "* Se menciona que este juego **no valida** errores (como mover en un lugar ocupado o ganar antes de llenar el tablero).\n",
        "* Se alienta a los estudiantes a **extenderlo**:\n",
        "* validar entradas,\n",
        "* detectar ganadores,\n",
        "* evitar espacios ya ocupados."
      ],
      "metadata": {
        "id": "yM8Jy526oKUv"
      }
    }
  ],
  "metadata": {
    "kernelspec": {
      "display_name": "Python 3",
      "language": "python",
      "name": "python3"
    },
    "language_info": {
      "name": "python",
      "version": "3.x"
    },
    "colab": {
      "provenance": []
    }
  },
  "nbformat": 4,
  "nbformat_minor": 0
}